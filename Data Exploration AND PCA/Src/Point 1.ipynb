{
 "cells": [
  {
   "cell_type": "markdown",
   "id": "33819cb5-99c4-4799-bc93-1c500579c836",
   "metadata": {},
   "source": [
    "@author: Carlos Andrés Tejada Ramírez  \n",
    "Point 1 of Homework 1 from statistics III"
   ]
  },
  {
   "cell_type": "markdown",
   "id": "c2fb34fc-af65-4317-a376-c4e23af51c5a",
   "metadata": {},
   "source": [
    "# Data exploration AND PCA (Point 1)"
   ]
  },
  {
   "cell_type": "markdown",
   "id": "163c9080-7807-4a4e-809b-19c1d98d74a7",
   "metadata": {},
   "source": [
    "## Use this data from the departments of Colombia to do the following tasks"
   ]
  },
  {
   "cell_type": "markdown",
   "id": "9a26abbe-7339-4624-b25c-8b54ead157f3",
   "metadata": {},
   "source": [
    "| Department                                       | GDP Millions (x_1) | Population (x_2) | GDP per capita Millions (x_3) |\r\n",
    "|--------------------------------------------------|---------------------|-------------------|-------------------------------|\r\n",
    "| Amazonas                                         | 1067855.672         | 76589             | 13.94267678                   |\r\n",
    "| Antioquia                                        | 212514957.4         | 6407102           | 33.16865524                   |\r\n",
    "| Arauca                                           | 8548114.653         | 262174            | 32.60473828                   |\r\n",
    "| Atlántico                                        | 63764770.77         | 2535517           | 25.1486268                    |\r\n",
    "| Bogotá D.C.                                      | 357258620.8         | 7412566           | 48.19634938                   |\r\n",
    "| Bolívar                                          | 51404352.37         | 2070110           | 24.83170091                   |\r\n",
    "| Boyacá                                           | 38858162.12         | 1217376           | 31.91960588                   |\r\n",
    "| Caldas                                           | 23953112.45         | 998255            | 23.9949837                    |\r\n",
    "| Caquetá                                          | 5461366.78          | 401849            | 13.59059443                   |\r\n",
    "| Casanare                                         | 23660657.37         | 420504            | 56.26737766                   |\r\n",
    "| Cauca                                            | 25758151.71         | 1464488           | 17.58850309                   |\r\n",
    "| Cesar                                            | 37523918.98         | 1200574           | 31.25498218                   |\r\n",
    "| Chocó                                            | 6001844.915         | 534826            | 11.2220515                    |\r\n",
    "| Córdoba                                          | 24991953.76         | 1784783           | 14.00279685                   |\r\n",
    "| Cundinamarca                                     | 91945942.28         | 2919060           | 31.49847632                   |\r\n",
    "| Guainía                                          | 497704.0127         | 48114             | 10.34426597                   |\r\n",
    "| Guaviare                                         | 1123857.696         | 82767             | 13.57857232                   |\r\n",
    "| Huila                                            | 24011616.06         | 1100386           | 21.8210846                    |\r\n",
    "| La Guajira                                       | 22262575.88         | 880560            | 25.28229295                   |\r\n",
    "| Magdalena                                        | 19738417.36         | 1341746           | 14.710994                     |\r\n",
    "| Meta                                             | 58439500.07         | 1039722           | 56.20685151                   |\r\n",
    "| Nariño                                           | 21775426.15         | 1630592           | 13.35430699                   |\r\n",
    "| Norte de Santander                               | 23056874.23         | 1491689           | 15.45689097                   |\r\n",
    "| Putumayo                                          | 5616558.269         | 348182            | 16.13109888                   |\r\n",
    "| Quindío                                          | 11941644.16         | 539904            | 22.11808795                   |\r\n",
    "| Risaralda                                        | 23786362.42         | 943401            | 25.21341659                   |\r\n",
    "| San   Andrés, Providencia y Santa Catalina (Archipiélago) | 2125410.333 | 61280             | 34.68358898                   |\r\n",
    "| Santander                                        | 92276678.16         | 2184837           | 42.23504003                   |\r\n",
    "| Sucre                                            | 11516270.76         | 904863            | 12.7270877                    |\r\n",
    "| Tolima                                           | 30438180.15         | 1330187           | 22.8826324                    |\r\n",
    "| Valle del Cauca                                  | 139863153.5         | 4475886           | 31.2481492                    |\r\n",
    "| Vaupés                                           | 381851.6785         | 40797             | 9.359797989                   |\r\n",
    "| Vichada                                          | 956576.6785         | 107808            | 8.872965629                   |\r\n"
   ]
  },
  {
   "cell_type": "code",
   "execution_count": 46,
   "id": "d45248c7-6c9a-4f3b-b5df-72010b5b0442",
   "metadata": {},
   "outputs": [],
   "source": [
    "import pandas as pd\n",
    "import matplotlib.pyplot as plt\n",
    "import numpy as np\n",
    "\n",
    "df = pd.read_csv(\"../Docs/Data/DEPARTMENTS.csv\")"
   ]
  },
  {
   "cell_type": "code",
   "execution_count": 63,
   "id": "4a984932-0bb4-4fce-8af8-850eb9fae004",
   "metadata": {},
   "outputs": [
    {
     "data": {
      "text/html": [
       "<div>\n",
       "<style scoped>\n",
       "    .dataframe tbody tr th:only-of-type {\n",
       "        vertical-align: middle;\n",
       "    }\n",
       "\n",
       "    .dataframe tbody tr th {\n",
       "        vertical-align: top;\n",
       "    }\n",
       "\n",
       "    .dataframe thead th {\n",
       "        text-align: right;\n",
       "    }\n",
       "</style>\n",
       "<table border=\"1\" class=\"dataframe\">\n",
       "  <thead>\n",
       "    <tr style=\"text-align: right;\">\n",
       "      <th></th>\n",
       "      <th>GDP Millions (x_1)</th>\n",
       "      <th>Population (x_2)</th>\n",
       "      <th>GDP per capita Millions (x_3)</th>\n",
       "    </tr>\n",
       "  </thead>\n",
       "  <tbody>\n",
       "    <tr>\n",
       "      <th>count</th>\n",
       "      <td>3.300000e+01</td>\n",
       "      <td>3.300000e+01</td>\n",
       "      <td>33.000000</td>\n",
       "    </tr>\n",
       "    <tr>\n",
       "      <th>mean</th>\n",
       "      <td>4.431886e+07</td>\n",
       "      <td>1.462379e+06</td>\n",
       "      <td>24.407856</td>\n",
       "    </tr>\n",
       "    <tr>\n",
       "      <th>std</th>\n",
       "      <td>7.167346e+07</td>\n",
       "      <td>1.705549e+06</td>\n",
       "      <td>12.766734</td>\n",
       "    </tr>\n",
       "    <tr>\n",
       "      <th>min</th>\n",
       "      <td>3.818517e+05</td>\n",
       "      <td>4.079700e+04</td>\n",
       "      <td>8.872966</td>\n",
       "    </tr>\n",
       "    <tr>\n",
       "      <th>25%</th>\n",
       "      <td>6.001845e+06</td>\n",
       "      <td>4.018490e+05</td>\n",
       "      <td>13.942677</td>\n",
       "    </tr>\n",
       "    <tr>\n",
       "      <th>50%</th>\n",
       "      <td>2.366066e+07</td>\n",
       "      <td>1.039722e+06</td>\n",
       "      <td>22.882632</td>\n",
       "    </tr>\n",
       "    <tr>\n",
       "      <th>75%</th>\n",
       "      <td>3.885816e+07</td>\n",
       "      <td>1.630592e+06</td>\n",
       "      <td>31.498476</td>\n",
       "    </tr>\n",
       "    <tr>\n",
       "      <th>max</th>\n",
       "      <td>3.572586e+08</td>\n",
       "      <td>7.412566e+06</td>\n",
       "      <td>56.267378</td>\n",
       "    </tr>\n",
       "  </tbody>\n",
       "</table>\n",
       "</div>"
      ],
      "text/plain": [
       "       GDP Millions (x_1)  Population (x_2)  GDP per capita Millions (x_3)\n",
       "count        3.300000e+01      3.300000e+01                      33.000000\n",
       "mean         4.431886e+07      1.462379e+06                      24.407856\n",
       "std          7.167346e+07      1.705549e+06                      12.766734\n",
       "min          3.818517e+05      4.079700e+04                       8.872966\n",
       "25%          6.001845e+06      4.018490e+05                      13.942677\n",
       "50%          2.366066e+07      1.039722e+06                      22.882632\n",
       "75%          3.885816e+07      1.630592e+06                      31.498476\n",
       "max          3.572586e+08      7.412566e+06                      56.267378"
      ]
     },
     "execution_count": 63,
     "metadata": {},
     "output_type": "execute_result"
    }
   ],
   "source": [
    "columnx_1 = df['GDP Millions (x_1)']\n",
    "columnx_2 = df['Population (x_2)']\n",
    "columnx_3 = df['GDP per capita Millions (x_3)']\n",
    "\n",
    "df.describe()"
   ]
  },
  {
   "cell_type": "markdown",
   "id": "dc10e84b-c549-4c50-952a-83f564bd8522",
   "metadata": {},
   "source": [
    "### 1. What is the mean, median, and standard deviation?, and the mode and mode repetition values for categorical data."
   ]
  },
  {
   "cell_type": "markdown",
   "id": "4093d82f-1f59-4ac0-b62a-3b0ea37b8021",
   "metadata": {},
   "source": [
    "#### Mean"
   ]
  },
  {
   "cell_type": "code",
   "execution_count": 64,
   "id": "cc74bba8-3b70-4384-b871-ca813aa9aa72",
   "metadata": {},
   "outputs": [
    {
     "name": "stdout",
     "output_type": "stream",
     "text": [
      "Mean of GDP Millions (x_1): 44318861.805990905\n",
      "Mean of Population (x_2): 1462378.606060606\n",
      "Mean of GDP per capita Millions (x_3): 24.40785586842424\n"
     ]
    }
   ],
   "source": [
    "# Calculate mean for each column\n",
    "meanx_1 = columnx_1.sum() / len(df['GDP Millions (x_1)'])\n",
    "meanx_2 = columnx_2.sum() / len(df['Population (x_2)'])\n",
    "meanx_3 = columnx_3.sum() / len(df['GDP per capita Millions (x_3)'])\n",
    "\n",
    "# Print results\n",
    "print(f\"Mean of GDP Millions (x_1): {meanx_1}\")\n",
    "print(f\"Mean of Population (x_2): {meanx_2}\")\n",
    "print(f\"Mean of GDP per capita Millions (x_3): {meanx_3}\")\n"
   ]
  },
  {
   "cell_type": "markdown",
   "id": "5f10c54e-7d77-4d45-99c8-28dd4f5371b4",
   "metadata": {},
   "source": [
    "#### Median"
   ]
  },
  {
   "cell_type": "code",
   "execution_count": 66,
   "id": "366fcc7a-4a2b-4107-b6b8-f8a33ae83e6f",
   "metadata": {},
   "outputs": [
    {
     "name": "stdout",
     "output_type": "stream",
     "text": [
      "Median of GDP Millions (x_1): 23660657.37\n",
      "Median of Population (x_2): 1039722\n",
      "Median of GDP per capita Millions (x_3): 23660657.37\n"
     ]
    }
   ],
   "source": [
    "# Function to calculate the median\n",
    "def calculateMedian(column):\n",
    "    sortedColumn = sorted(column)\n",
    "    n = len(sortedColumn)\n",
    "    if n % 2 == 0:\n",
    "        median = (sortedColumn[n//2 - 1] + sortedColumn[n//2]) / 2\n",
    "    else:\n",
    "        median = sortedColumn[n//2]\n",
    "    return median\n",
    "\n",
    "# Calculate median for each column\n",
    "medianx_1 = calculateMedian(columnx_1)\n",
    "medianx_2 = calculateMedian(columnx_2)\n",
    "medianx_3 = calculateMedian(columnx_1)\n",
    "\n",
    "# Print the results\n",
    "print(f\"Median of GDP Millions (x_1): {medianx_1}\")\n",
    "print(f\"Median of Population (x_2): {medianx_2}\")\n",
    "print(f\"Median of GDP per capita Millions (x_3): {medianx_3}\")\n"
   ]
  },
  {
   "cell_type": "markdown",
   "id": "a763d80b-7a3d-42d7-a4c9-3e4b05bf2173",
   "metadata": {},
   "source": [
    "### Standard deviation"
   ]
  },
  {
   "cell_type": "code",
   "execution_count": 67,
   "id": "4634744a-3371-413e-986f-bc69348b17c2",
   "metadata": {},
   "outputs": [
    {
     "name": "stdout",
     "output_type": "stream",
     "text": [
      "Standard Deviation of GDP Millions (x_1): 70579141.0325053\n",
      "Standard Deviation of Population (x_2): 1679508.5872436275\n",
      "Standard Deviation of GDP per capita Millions (x_3): 12.57181023560453\n"
     ]
    }
   ],
   "source": [
    "# Function to calculate the mean\n",
    "def calculateMean(column):\n",
    "    return sum(column) / len(column)\n",
    "\n",
    "# Function to calculate the standard deviation\n",
    "def calculateStdDev(column, mean):\n",
    "    n = len(column)\n",
    "    squaredDifferences = [(x - mean) ** 2 for x in column]\n",
    "    variance = sum(squaredDifferences) / n\n",
    "    stdDev = variance ** 0.5\n",
    "    return stdDev\n",
    "\n",
    "# Calculate mean for each column\n",
    "meanX1 = calculateMean(columnX1)\n",
    "meanX2 = calculateMean(columnX2)\n",
    "meanX3 = calculateMean(columnX3)\n",
    "\n",
    "# Calculate standard deviation for each column\n",
    "stdDevX1 = calculateStdDev(columnX1, meanX1)\n",
    "stdDevX2 = calculateStdDev(columnX2, meanX2)\n",
    "stdDevX3 = calculateStdDev(columnX3, meanX3)\n",
    "\n",
    "# Print the results\n",
    "print(f\"Standard Deviation of GDP Millions (x_1): {stdDevX1}\")\n",
    "print(f\"Standard Deviation of Population (x_2): {stdDevX2}\")\n",
    "print(f\"Standard Deviation of GDP per capita Millions (x_3): {stdDevX3}\")\n"
   ]
  },
  {
   "cell_type": "markdown",
   "id": "f2c8c7b4-cf91-42ea-b18b-024bf38cba03",
   "metadata": {},
   "source": [
    "#### Mode and repetition values for categorical data"
   ]
  },
  {
   "cell_type": "code",
   "execution_count": 76,
   "id": "b535711d-6015-4502-bd7f-effd3bc829b8",
   "metadata": {},
   "outputs": [
    {
     "name": "stdout",
     "output_type": "stream",
     "text": [
      "\n",
      "Mode and value counts for categorical columns:\n",
      "Mode:\n",
      " Department                          Amazonas\n",
      "GDP Millions (x_1)               381851.6785\n",
      "Population (x_2)                       40797\n",
      "GDP per capita Millions (x_3)       8.872966\n",
      "Name: 0, dtype: object\n",
      "\n",
      "Column: Department\n",
      "Mode:\n",
      "\t ['Amazonas', 'Antioquia', 'Arauca', 'Atlántico', 'Bogotá D.C.', 'Bolívar', 'Boyacá', 'Caldas', 'Caquetá', 'Casanare', 'Cauca', 'Cesar', 'Chocó', 'Cundinamarca', 'Córdoba', 'Guainía', 'Guaviare', 'Huila', 'La Guajira', 'Magdalena', 'Meta', 'Nariño', 'Norte de Santander', 'Putumayo', 'Quindío', 'Risaralda', 'San Andrés Providencia y Santa Catalina (Archipiélago)', 'Santander', 'Sucre', 'Tolima', 'Valle del Cauca', 'Vaupés', 'Vichada']\n",
      "\n",
      "Mode value counts:\n",
      "  Amazonas: 1\n",
      "  Huila: 1\n",
      "  Vaupés: 1\n",
      "  Valle del Cauca: 1\n",
      "  Tolima: 1\n",
      "  Sucre: 1\n",
      "  Santander: 1\n",
      "  San Andrés Providencia y Santa Catalina (Archipiélago): 1\n",
      "  Risaralda: 1\n",
      "  Quindío: 1\n",
      "  Putumayo: 1\n",
      "  Norte de Santander: 1\n",
      "  Nariño: 1\n",
      "  Meta: 1\n",
      "  Magdalena: 1\n",
      "  La Guajira: 1\n",
      "  Guaviare: 1\n",
      "  Antioquia: 1\n",
      "  Guainía: 1\n",
      "  Cundinamarca: 1\n",
      "  Córdoba: 1\n",
      "  Chocó: 1\n",
      "  Cesar: 1\n",
      "  Cauca: 1\n",
      "  Casanare: 1\n",
      "  Caquetá: 1\n",
      "  Caldas: 1\n",
      "  Boyacá: 1\n",
      "  Bolívar: 1\n",
      "  Bogotá D.C.: 1\n",
      "  Atlántico: 1\n",
      "  Arauca: 1\n",
      "  Vichada: 1\n"
     ]
    }
   ],
   "source": [
    "# Mode and value counts for categorical columns\n",
    "modeValueCounts = {}\n",
    "for column in df.select_dtypes(include=['object']).columns:\n",
    "    modeValueCounts[column] = {\n",
    "        'mode': df[column].mode().tolist(),\n",
    "        'valueCounts': df[column].value_counts().to_dict()\n",
    "    }\n",
    "\n",
    "#Print results\n",
    "print(\"\\nMode and value counts for categorical columns:\")\n",
    "print(f\"Mode:\\n {df.mode().iloc[0]}\")\n",
    "for column, values in modeValueCounts.items():\n",
    "    print(f\"\\nColumn: {column}\")\n",
    "    print(f\"Mode:\\n\\t {values['mode']}\")\n",
    "    print(f\"\\nMode value counts:\")\n",
    "    for value, counts in values['valueCounts'].items():\n",
    "        print(f\"  {value}: {counts}\")"
   ]
  },
  {
   "cell_type": "markdown",
   "id": "f3310d30-06ef-498e-8e90-5e4a9172e281",
   "metadata": {},
   "source": [
    "### 2.Draw a boxplot by hand. Using the data from table 1 and the following proportions."
   ]
  },
  {
   "cell_type": "code",
   "execution_count": 82,
   "id": "18d2da3e-05a1-4a64-8967-46df3a36316d",
   "metadata": {},
   "outputs": [
    {
     "data": {
      "application/vnd.plotly.v1+json": {
       "config": {
        "plotlyServerURL": "https://plot.ly"
       },
       "data": [
        {
         "boxpoints": "all",
         "jitter": 0.3,
         "name": "Boxplot",
         "pointpos": -1.8,
         "type": "box",
         "y": [
          1067855.672,
          212514957.4,
          8548114.653,
          63764770.77,
          357258620.8,
          51404352.37,
          38858162.12,
          23953112.45,
          5461366.78,
          23660657.37,
          25758151.71,
          37523918.98,
          6001844.915,
          24991953.76,
          91945942.28,
          497704.0127,
          1123857.696,
          24011616.06,
          22262575.88,
          19738417.36,
          58439500.07,
          21775426.15,
          23056874.23,
          5616558.269,
          11941644.16,
          23786362.42,
          2125410.333,
          92276678.16,
          11516270.76,
          30438180.15,
          139863153.5,
          381851.6785,
          956576.6785
         ]
        }
       ],
       "layout": {
        "autosize": true,
        "showlegend": false,
        "template": {
         "data": {
          "bar": [
           {
            "error_x": {
             "color": "#2a3f5f"
            },
            "error_y": {
             "color": "#2a3f5f"
            },
            "marker": {
             "line": {
              "color": "#E5ECF6",
              "width": 0.5
             },
             "pattern": {
              "fillmode": "overlay",
              "size": 10,
              "solidity": 0.2
             }
            },
            "type": "bar"
           }
          ],
          "barpolar": [
           {
            "marker": {
             "line": {
              "color": "#E5ECF6",
              "width": 0.5
             },
             "pattern": {
              "fillmode": "overlay",
              "size": 10,
              "solidity": 0.2
             }
            },
            "type": "barpolar"
           }
          ],
          "carpet": [
           {
            "aaxis": {
             "endlinecolor": "#2a3f5f",
             "gridcolor": "white",
             "linecolor": "white",
             "minorgridcolor": "white",
             "startlinecolor": "#2a3f5f"
            },
            "baxis": {
             "endlinecolor": "#2a3f5f",
             "gridcolor": "white",
             "linecolor": "white",
             "minorgridcolor": "white",
             "startlinecolor": "#2a3f5f"
            },
            "type": "carpet"
           }
          ],
          "choropleth": [
           {
            "colorbar": {
             "outlinewidth": 0,
             "ticks": ""
            },
            "type": "choropleth"
           }
          ],
          "contour": [
           {
            "colorbar": {
             "outlinewidth": 0,
             "ticks": ""
            },
            "colorscale": [
             [
              0,
              "#0d0887"
             ],
             [
              0.1111111111111111,
              "#46039f"
             ],
             [
              0.2222222222222222,
              "#7201a8"
             ],
             [
              0.3333333333333333,
              "#9c179e"
             ],
             [
              0.4444444444444444,
              "#bd3786"
             ],
             [
              0.5555555555555556,
              "#d8576b"
             ],
             [
              0.6666666666666666,
              "#ed7953"
             ],
             [
              0.7777777777777778,
              "#fb9f3a"
             ],
             [
              0.8888888888888888,
              "#fdca26"
             ],
             [
              1,
              "#f0f921"
             ]
            ],
            "type": "contour"
           }
          ],
          "contourcarpet": [
           {
            "colorbar": {
             "outlinewidth": 0,
             "ticks": ""
            },
            "type": "contourcarpet"
           }
          ],
          "heatmap": [
           {
            "colorbar": {
             "outlinewidth": 0,
             "ticks": ""
            },
            "colorscale": [
             [
              0,
              "#0d0887"
             ],
             [
              0.1111111111111111,
              "#46039f"
             ],
             [
              0.2222222222222222,
              "#7201a8"
             ],
             [
              0.3333333333333333,
              "#9c179e"
             ],
             [
              0.4444444444444444,
              "#bd3786"
             ],
             [
              0.5555555555555556,
              "#d8576b"
             ],
             [
              0.6666666666666666,
              "#ed7953"
             ],
             [
              0.7777777777777778,
              "#fb9f3a"
             ],
             [
              0.8888888888888888,
              "#fdca26"
             ],
             [
              1,
              "#f0f921"
             ]
            ],
            "type": "heatmap"
           }
          ],
          "heatmapgl": [
           {
            "colorbar": {
             "outlinewidth": 0,
             "ticks": ""
            },
            "colorscale": [
             [
              0,
              "#0d0887"
             ],
             [
              0.1111111111111111,
              "#46039f"
             ],
             [
              0.2222222222222222,
              "#7201a8"
             ],
             [
              0.3333333333333333,
              "#9c179e"
             ],
             [
              0.4444444444444444,
              "#bd3786"
             ],
             [
              0.5555555555555556,
              "#d8576b"
             ],
             [
              0.6666666666666666,
              "#ed7953"
             ],
             [
              0.7777777777777778,
              "#fb9f3a"
             ],
             [
              0.8888888888888888,
              "#fdca26"
             ],
             [
              1,
              "#f0f921"
             ]
            ],
            "type": "heatmapgl"
           }
          ],
          "histogram": [
           {
            "marker": {
             "pattern": {
              "fillmode": "overlay",
              "size": 10,
              "solidity": 0.2
             }
            },
            "type": "histogram"
           }
          ],
          "histogram2d": [
           {
            "colorbar": {
             "outlinewidth": 0,
             "ticks": ""
            },
            "colorscale": [
             [
              0,
              "#0d0887"
             ],
             [
              0.1111111111111111,
              "#46039f"
             ],
             [
              0.2222222222222222,
              "#7201a8"
             ],
             [
              0.3333333333333333,
              "#9c179e"
             ],
             [
              0.4444444444444444,
              "#bd3786"
             ],
             [
              0.5555555555555556,
              "#d8576b"
             ],
             [
              0.6666666666666666,
              "#ed7953"
             ],
             [
              0.7777777777777778,
              "#fb9f3a"
             ],
             [
              0.8888888888888888,
              "#fdca26"
             ],
             [
              1,
              "#f0f921"
             ]
            ],
            "type": "histogram2d"
           }
          ],
          "histogram2dcontour": [
           {
            "colorbar": {
             "outlinewidth": 0,
             "ticks": ""
            },
            "colorscale": [
             [
              0,
              "#0d0887"
             ],
             [
              0.1111111111111111,
              "#46039f"
             ],
             [
              0.2222222222222222,
              "#7201a8"
             ],
             [
              0.3333333333333333,
              "#9c179e"
             ],
             [
              0.4444444444444444,
              "#bd3786"
             ],
             [
              0.5555555555555556,
              "#d8576b"
             ],
             [
              0.6666666666666666,
              "#ed7953"
             ],
             [
              0.7777777777777778,
              "#fb9f3a"
             ],
             [
              0.8888888888888888,
              "#fdca26"
             ],
             [
              1,
              "#f0f921"
             ]
            ],
            "type": "histogram2dcontour"
           }
          ],
          "mesh3d": [
           {
            "colorbar": {
             "outlinewidth": 0,
             "ticks": ""
            },
            "type": "mesh3d"
           }
          ],
          "parcoords": [
           {
            "line": {
             "colorbar": {
              "outlinewidth": 0,
              "ticks": ""
             }
            },
            "type": "parcoords"
           }
          ],
          "pie": [
           {
            "automargin": true,
            "type": "pie"
           }
          ],
          "scatter": [
           {
            "fillpattern": {
             "fillmode": "overlay",
             "size": 10,
             "solidity": 0.2
            },
            "type": "scatter"
           }
          ],
          "scatter3d": [
           {
            "line": {
             "colorbar": {
              "outlinewidth": 0,
              "ticks": ""
             }
            },
            "marker": {
             "colorbar": {
              "outlinewidth": 0,
              "ticks": ""
             }
            },
            "type": "scatter3d"
           }
          ],
          "scattercarpet": [
           {
            "marker": {
             "colorbar": {
              "outlinewidth": 0,
              "ticks": ""
             }
            },
            "type": "scattercarpet"
           }
          ],
          "scattergeo": [
           {
            "marker": {
             "colorbar": {
              "outlinewidth": 0,
              "ticks": ""
             }
            },
            "type": "scattergeo"
           }
          ],
          "scattergl": [
           {
            "marker": {
             "colorbar": {
              "outlinewidth": 0,
              "ticks": ""
             }
            },
            "type": "scattergl"
           }
          ],
          "scattermapbox": [
           {
            "marker": {
             "colorbar": {
              "outlinewidth": 0,
              "ticks": ""
             }
            },
            "type": "scattermapbox"
           }
          ],
          "scatterpolar": [
           {
            "marker": {
             "colorbar": {
              "outlinewidth": 0,
              "ticks": ""
             }
            },
            "type": "scatterpolar"
           }
          ],
          "scatterpolargl": [
           {
            "marker": {
             "colorbar": {
              "outlinewidth": 0,
              "ticks": ""
             }
            },
            "type": "scatterpolargl"
           }
          ],
          "scatterternary": [
           {
            "marker": {
             "colorbar": {
              "outlinewidth": 0,
              "ticks": ""
             }
            },
            "type": "scatterternary"
           }
          ],
          "surface": [
           {
            "colorbar": {
             "outlinewidth": 0,
             "ticks": ""
            },
            "colorscale": [
             [
              0,
              "#0d0887"
             ],
             [
              0.1111111111111111,
              "#46039f"
             ],
             [
              0.2222222222222222,
              "#7201a8"
             ],
             [
              0.3333333333333333,
              "#9c179e"
             ],
             [
              0.4444444444444444,
              "#bd3786"
             ],
             [
              0.5555555555555556,
              "#d8576b"
             ],
             [
              0.6666666666666666,
              "#ed7953"
             ],
             [
              0.7777777777777778,
              "#fb9f3a"
             ],
             [
              0.8888888888888888,
              "#fdca26"
             ],
             [
              1,
              "#f0f921"
             ]
            ],
            "type": "surface"
           }
          ],
          "table": [
           {
            "cells": {
             "fill": {
              "color": "#EBF0F8"
             },
             "line": {
              "color": "white"
             }
            },
            "header": {
             "fill": {
              "color": "#C8D4E3"
             },
             "line": {
              "color": "white"
             }
            },
            "type": "table"
           }
          ]
         },
         "layout": {
          "annotationdefaults": {
           "arrowcolor": "#2a3f5f",
           "arrowhead": 0,
           "arrowwidth": 1
          },
          "autotypenumbers": "strict",
          "coloraxis": {
           "colorbar": {
            "outlinewidth": 0,
            "ticks": ""
           }
          },
          "colorscale": {
           "diverging": [
            [
             0,
             "#8e0152"
            ],
            [
             0.1,
             "#c51b7d"
            ],
            [
             0.2,
             "#de77ae"
            ],
            [
             0.3,
             "#f1b6da"
            ],
            [
             0.4,
             "#fde0ef"
            ],
            [
             0.5,
             "#f7f7f7"
            ],
            [
             0.6,
             "#e6f5d0"
            ],
            [
             0.7,
             "#b8e186"
            ],
            [
             0.8,
             "#7fbc41"
            ],
            [
             0.9,
             "#4d9221"
            ],
            [
             1,
             "#276419"
            ]
           ],
           "sequential": [
            [
             0,
             "#0d0887"
            ],
            [
             0.1111111111111111,
             "#46039f"
            ],
            [
             0.2222222222222222,
             "#7201a8"
            ],
            [
             0.3333333333333333,
             "#9c179e"
            ],
            [
             0.4444444444444444,
             "#bd3786"
            ],
            [
             0.5555555555555556,
             "#d8576b"
            ],
            [
             0.6666666666666666,
             "#ed7953"
            ],
            [
             0.7777777777777778,
             "#fb9f3a"
            ],
            [
             0.8888888888888888,
             "#fdca26"
            ],
            [
             1,
             "#f0f921"
            ]
           ],
           "sequentialminus": [
            [
             0,
             "#0d0887"
            ],
            [
             0.1111111111111111,
             "#46039f"
            ],
            [
             0.2222222222222222,
             "#7201a8"
            ],
            [
             0.3333333333333333,
             "#9c179e"
            ],
            [
             0.4444444444444444,
             "#bd3786"
            ],
            [
             0.5555555555555556,
             "#d8576b"
            ],
            [
             0.6666666666666666,
             "#ed7953"
            ],
            [
             0.7777777777777778,
             "#fb9f3a"
            ],
            [
             0.8888888888888888,
             "#fdca26"
            ],
            [
             1,
             "#f0f921"
            ]
           ]
          },
          "colorway": [
           "#636efa",
           "#EF553B",
           "#00cc96",
           "#ab63fa",
           "#FFA15A",
           "#19d3f3",
           "#FF6692",
           "#B6E880",
           "#FF97FF",
           "#FECB52"
          ],
          "font": {
           "color": "#2a3f5f"
          },
          "geo": {
           "bgcolor": "white",
           "lakecolor": "white",
           "landcolor": "#E5ECF6",
           "showlakes": true,
           "showland": true,
           "subunitcolor": "white"
          },
          "hoverlabel": {
           "align": "left"
          },
          "hovermode": "closest",
          "mapbox": {
           "style": "light"
          },
          "paper_bgcolor": "white",
          "plot_bgcolor": "#E5ECF6",
          "polar": {
           "angularaxis": {
            "gridcolor": "white",
            "linecolor": "white",
            "ticks": ""
           },
           "bgcolor": "#E5ECF6",
           "radialaxis": {
            "gridcolor": "white",
            "linecolor": "white",
            "ticks": ""
           }
          },
          "scene": {
           "xaxis": {
            "backgroundcolor": "#E5ECF6",
            "gridcolor": "white",
            "gridwidth": 2,
            "linecolor": "white",
            "showbackground": true,
            "ticks": "",
            "zerolinecolor": "white"
           },
           "yaxis": {
            "backgroundcolor": "#E5ECF6",
            "gridcolor": "white",
            "gridwidth": 2,
            "linecolor": "white",
            "showbackground": true,
            "ticks": "",
            "zerolinecolor": "white"
           },
           "zaxis": {
            "backgroundcolor": "#E5ECF6",
            "gridcolor": "white",
            "gridwidth": 2,
            "linecolor": "white",
            "showbackground": true,
            "ticks": "",
            "zerolinecolor": "white"
           }
          },
          "shapedefaults": {
           "line": {
            "color": "#2a3f5f"
           }
          },
          "ternary": {
           "aaxis": {
            "gridcolor": "white",
            "linecolor": "white",
            "ticks": ""
           },
           "baxis": {
            "gridcolor": "white",
            "linecolor": "white",
            "ticks": ""
           },
           "bgcolor": "#E5ECF6",
           "caxis": {
            "gridcolor": "white",
            "linecolor": "white",
            "ticks": ""
           }
          },
          "title": {
           "x": 0.05
          },
          "xaxis": {
           "automargin": true,
           "gridcolor": "white",
           "linecolor": "white",
           "ticks": "",
           "title": {
            "standoff": 15
           },
           "zerolinecolor": "white",
           "zerolinewidth": 2
          },
          "yaxis": {
           "automargin": true,
           "gridcolor": "white",
           "linecolor": "white",
           "ticks": "",
           "title": {
            "standoff": 15
           },
           "zerolinecolor": "white",
           "zerolinewidth": 2
          }
         }
        },
        "title": {
         "text": "Boxplot of GDP Millions (x_1)"
        },
        "xaxis": {
         "autorange": true,
         "range": [
          -0.5746598380040203,
          0.5565610441054748
         ],
         "type": "category"
        },
        "yaxis": {
         "autorange": true,
         "range": [
          -19444635.49491667,
          377085107.9734167
         ],
         "title": {
          "text": "GDP Millions (x_1)"
         },
         "type": "linear"
        }
       }
      },
      "image/png": "[encoded data removed]",
      "text/html": [
       "<div>                            <div id=\"8cdd47b0-5c27-4ad3-a439-b3a50ce12e96\" class=\"plotly-graph-div\" style=\"height:525px; width:100%;\"></div>            <script type=\"text/javascript\">                require([\"plotly\"], function(Plotly) {                    window.PLOTLYENV=window.PLOTLYENV || {};                                    if (document.getElementById(\"8cdd47b0-5c27-4ad3-a439-b3a50ce12e96\")) {                    Plotly.newPlot(                        \"8cdd47b0-5c27-4ad3-a439-b3a50ce12e96\",                        [{\"boxpoints\":\"all\",\"jitter\":0.3,\"name\":\"Boxplot\",\"pointpos\":-1.8,\"y\":[1067855.672,212514957.4,8548114.653,63764770.77,357258620.8,51404352.37,38858162.12,23953112.45,5461366.78,23660657.37,25758151.71,37523918.98,6001844.915,24991953.76,91945942.28,497704.0127,1123857.696,24011616.06,22262575.88,19738417.36,58439500.07,21775426.15,23056874.23,5616558.269,11941644.16,23786362.42,2125410.333,92276678.16,11516270.76,30438180.15,139863153.5,381851.6785,956576.6785],\"type\":\"box\"}],                        {\"template\":{\"data\":{\"histogram2dcontour\":[{\"type\":\"histogram2dcontour\",\"colorbar\":{\"outlinewidth\":0,\"ticks\":\"\"},\"colorscale\":[[0.0,\"#0d0887\"],[0.1111111111111111,\"#46039f\"],[0.2222222222222222,\"#7201a8\"],[0.3333333333333333,\"#9c179e\"],[0.4444444444444444,\"#bd3786\"],[0.5555555555555556,\"#d8576b\"],[0.6666666666666666,\"#ed7953\"],[0.7777777777777778,\"#fb9f3a\"],[0.8888888888888888,\"#fdca26\"],[1.0,\"#f0f921\"]]}],\"choropleth\":[{\"type\":\"choropleth\",\"colorbar\":{\"outlinewidth\":0,\"ticks\":\"\"}}],\"histogram2d\":[{\"type\":\"histogram2d\",\"colorbar\":{\"outlinewidth\":0,\"ticks\":\"\"},\"colorscale\":[[0.0,\"#0d0887\"],[0.1111111111111111,\"#46039f\"],[0.2222222222222222,\"#7201a8\"],[0.3333333333333333,\"#9c179e\"],[0.4444444444444444,\"#bd3786\"],[0.5555555555555556,\"#d8576b\"],[0.6666666666666666,\"#ed7953\"],[0.7777777777777778,\"#fb9f3a\"],[0.8888888888888888,\"#fdca26\"],[1.0,\"#f0f921\"]]}],\"heatmap\":[{\"type\":\"heatmap\",\"colorbar\":{\"outlinewidth\":0,\"ticks\":\"\"},\"colorscale\":[[0.0,\"#0d0887\"],[0.1111111111111111,\"#46039f\"],[0.2222222222222222,\"#7201a8\"],[0.3333333333333333,\"#9c179e\"],[0.4444444444444444,\"#bd3786\"],[0.5555555555555556,\"#d8576b\"],[0.6666666666666666,\"#ed7953\"],[0.7777777777777778,\"#fb9f3a\"],[0.8888888888888888,\"#fdca26\"],[1.0,\"#f0f921\"]]}],\"heatmapgl\":[{\"type\":\"heatmapgl\",\"colorbar\":{\"outlinewidth\":0,\"ticks\":\"\"},\"colorscale\":[[0.0,\"#0d0887\"],[0.1111111111111111,\"#46039f\"],[0.2222222222222222,\"#7201a8\"],[0.3333333333333333,\"#9c179e\"],[0.4444444444444444,\"#bd3786\"],[0.5555555555555556,\"#d8576b\"],[0.6666666666666666,\"#ed7953\"],[0.7777777777777778,\"#fb9f3a\"],[0.8888888888888888,\"#fdca26\"],[1.0,\"#f0f921\"]]}],\"contourcarpet\":[{\"type\":\"contourcarpet\",\"colorbar\":{\"outlinewidth\":0,\"ticks\":\"\"}}],\"contour\":[{\"type\":\"contour\",\"colorbar\":{\"outlinewidth\":0,\"ticks\":\"\"},\"colorscale\":[[0.0,\"#0d0887\"],[0.1111111111111111,\"#46039f\"],[0.2222222222222222,\"#7201a8\"],[0.3333333333333333,\"#9c179e\"],[0.4444444444444444,\"#bd3786\"],[0.5555555555555556,\"#d8576b\"],[0.6666666666666666,\"#ed7953\"],[0.7777777777777778,\"#fb9f3a\"],[0.8888888888888888,\"#fdca26\"],[1.0,\"#f0f921\"]]}],\"surface\":[{\"type\":\"surface\",\"colorbar\":{\"outlinewidth\":0,\"ticks\":\"\"},\"colorscale\":[[0.0,\"#0d0887\"],[0.1111111111111111,\"#46039f\"],[0.2222222222222222,\"#7201a8\"],[0.3333333333333333,\"#9c179e\"],[0.4444444444444444,\"#bd3786\"],[0.5555555555555556,\"#d8576b\"],[0.6666666666666666,\"#ed7953\"],[0.7777777777777778,\"#fb9f3a\"],[0.8888888888888888,\"#fdca26\"],[1.0,\"#f0f921\"]]}],\"mesh3d\":[{\"type\":\"mesh3d\",\"colorbar\":{\"outlinewidth\":0,\"ticks\":\"\"}}],\"scatter\":[{\"fillpattern\":{\"fillmode\":\"overlay\",\"size\":10,\"solidity\":0.2},\"type\":\"scatter\"}],\"parcoords\":[{\"type\":\"parcoords\",\"line\":{\"colorbar\":{\"outlinewidth\":0,\"ticks\":\"\"}}}],\"scatterpolargl\":[{\"type\":\"scatterpolargl\",\"marker\":{\"colorbar\":{\"outlinewidth\":0,\"ticks\":\"\"}}}],\"bar\":[{\"error_x\":{\"color\":\"#2a3f5f\"},\"error_y\":{\"color\":\"#2a3f5f\"},\"marker\":{\"line\":{\"color\":\"#E5ECF6\",\"width\":0.5},\"pattern\":{\"fillmode\":\"overlay\",\"size\":10,\"solidity\":0.2}},\"type\":\"bar\"}],\"scattergeo\":[{\"type\":\"scattergeo\",\"marker\":{\"colorbar\":{\"outlinewidth\":0,\"ticks\":\"\"}}}],\"scatterpolar\":[{\"type\":\"scatterpolar\",\"marker\":{\"colorbar\":{\"outlinewidth\":0,\"ticks\":\"\"}}}],\"histogram\":[{\"marker\":{\"pattern\":{\"fillmode\":\"overlay\",\"size\":10,\"solidity\":0.2}},\"type\":\"histogram\"}],\"scattergl\":[{\"type\":\"scattergl\",\"marker\":{\"colorbar\":{\"outlinewidth\":0,\"ticks\":\"\"}}}],\"scatter3d\":[{\"type\":\"scatter3d\",\"line\":{\"colorbar\":{\"outlinewidth\":0,\"ticks\":\"\"}},\"marker\":{\"colorbar\":{\"outlinewidth\":0,\"ticks\":\"\"}}}],\"scattermapbox\":[{\"type\":\"scattermapbox\",\"marker\":{\"colorbar\":{\"outlinewidth\":0,\"ticks\":\"\"}}}],\"scatterternary\":[{\"type\":\"scatterternary\",\"marker\":{\"colorbar\":{\"outlinewidth\":0,\"ticks\":\"\"}}}],\"scattercarpet\":[{\"type\":\"scattercarpet\",\"marker\":{\"colorbar\":{\"outlinewidth\":0,\"ticks\":\"\"}}}],\"carpet\":[{\"aaxis\":{\"endlinecolor\":\"#2a3f5f\",\"gridcolor\":\"white\",\"linecolor\":\"white\",\"minorgridcolor\":\"white\",\"startlinecolor\":\"#2a3f5f\"},\"baxis\":{\"endlinecolor\":\"#2a3f5f\",\"gridcolor\":\"white\",\"linecolor\":\"white\",\"minorgridcolor\":\"white\",\"startlinecolor\":\"#2a3f5f\"},\"type\":\"carpet\"}],\"table\":[{\"cells\":{\"fill\":{\"color\":\"#EBF0F8\"},\"line\":{\"color\":\"white\"}},\"header\":{\"fill\":{\"color\":\"#C8D4E3\"},\"line\":{\"color\":\"white\"}},\"type\":\"table\"}],\"barpolar\":[{\"marker\":{\"line\":{\"color\":\"#E5ECF6\",\"width\":0.5},\"pattern\":{\"fillmode\":\"overlay\",\"size\":10,\"solidity\":0.2}},\"type\":\"barpolar\"}],\"pie\":[{\"automargin\":true,\"type\":\"pie\"}]},\"layout\":{\"autotypenumbers\":\"strict\",\"colorway\":[\"#636efa\",\"#EF553B\",\"#00cc96\",\"#ab63fa\",\"#FFA15A\",\"#19d3f3\",\"#FF6692\",\"#B6E880\",\"#FF97FF\",\"#FECB52\"],\"font\":{\"color\":\"#2a3f5f\"},\"hovermode\":\"closest\",\"hoverlabel\":{\"align\":\"left\"},\"paper_bgcolor\":\"white\",\"plot_bgcolor\":\"#E5ECF6\",\"polar\":{\"bgcolor\":\"#E5ECF6\",\"angularaxis\":{\"gridcolor\":\"white\",\"linecolor\":\"white\",\"ticks\":\"\"},\"radialaxis\":{\"gridcolor\":\"white\",\"linecolor\":\"white\",\"ticks\":\"\"}},\"ternary\":{\"bgcolor\":\"#E5ECF6\",\"aaxis\":{\"gridcolor\":\"white\",\"linecolor\":\"white\",\"ticks\":\"\"},\"baxis\":{\"gridcolor\":\"white\",\"linecolor\":\"white\",\"ticks\":\"\"},\"caxis\":{\"gridcolor\":\"white\",\"linecolor\":\"white\",\"ticks\":\"\"}},\"coloraxis\":{\"colorbar\":{\"outlinewidth\":0,\"ticks\":\"\"}},\"colorscale\":{\"sequential\":[[0.0,\"#0d0887\"],[0.1111111111111111,\"#46039f\"],[0.2222222222222222,\"#7201a8\"],[0.3333333333333333,\"#9c179e\"],[0.4444444444444444,\"#bd3786\"],[0.5555555555555556,\"#d8576b\"],[0.6666666666666666,\"#ed7953\"],[0.7777777777777778,\"#fb9f3a\"],[0.8888888888888888,\"#fdca26\"],[1.0,\"#f0f921\"]],\"sequentialminus\":[[0.0,\"#0d0887\"],[0.1111111111111111,\"#46039f\"],[0.2222222222222222,\"#7201a8\"],[0.3333333333333333,\"#9c179e\"],[0.4444444444444444,\"#bd3786\"],[0.5555555555555556,\"#d8576b\"],[0.6666666666666666,\"#ed7953\"],[0.7777777777777778,\"#fb9f3a\"],[0.8888888888888888,\"#fdca26\"],[1.0,\"#f0f921\"]],\"diverging\":[[0,\"#8e0152\"],[0.1,\"#c51b7d\"],[0.2,\"#de77ae\"],[0.3,\"#f1b6da\"],[0.4,\"#fde0ef\"],[0.5,\"#f7f7f7\"],[0.6,\"#e6f5d0\"],[0.7,\"#b8e186\"],[0.8,\"#7fbc41\"],[0.9,\"#4d9221\"],[1,\"#276419\"]]},\"xaxis\":{\"gridcolor\":\"white\",\"linecolor\":\"white\",\"ticks\":\"\",\"title\":{\"standoff\":15},\"zerolinecolor\":\"white\",\"automargin\":true,\"zerolinewidth\":2},\"yaxis\":{\"gridcolor\":\"white\",\"linecolor\":\"white\",\"ticks\":\"\",\"title\":{\"standoff\":15},\"zerolinecolor\":\"white\",\"automargin\":true,\"zerolinewidth\":2},\"scene\":{\"xaxis\":{\"backgroundcolor\":\"#E5ECF6\",\"gridcolor\":\"white\",\"linecolor\":\"white\",\"showbackground\":true,\"ticks\":\"\",\"zerolinecolor\":\"white\",\"gridwidth\":2},\"yaxis\":{\"backgroundcolor\":\"#E5ECF6\",\"gridcolor\":\"white\",\"linecolor\":\"white\",\"showbackground\":true,\"ticks\":\"\",\"zerolinecolor\":\"white\",\"gridwidth\":2},\"zaxis\":{\"backgroundcolor\":\"#E5ECF6\",\"gridcolor\":\"white\",\"linecolor\":\"white\",\"showbackground\":true,\"ticks\":\"\",\"zerolinecolor\":\"white\",\"gridwidth\":2}},\"shapedefaults\":{\"line\":{\"color\":\"#2a3f5f\"}},\"annotationdefaults\":{\"arrowcolor\":\"#2a3f5f\",\"arrowhead\":0,\"arrowwidth\":1},\"geo\":{\"bgcolor\":\"white\",\"landcolor\":\"#E5ECF6\",\"subunitcolor\":\"white\",\"showland\":true,\"showlakes\":true,\"lakecolor\":\"white\"},\"title\":{\"x\":0.05},\"mapbox\":{\"style\":\"light\"}}},\"title\":{\"text\":\"Boxplot of GDP Millions (x_1)\"},\"yaxis\":{\"title\":{\"text\":\"GDP Millions (x_1)\"}},\"showlegend\":false},                        {\"responsive\": true}                    ).then(function(){\n",
       "                            \n",
       "var gd = document.getElementById('8cdd47b0-5c27-4ad3-a439-b3a50ce12e96');\n",
       "var x = new MutationObserver(function (mutations, observer) {{\n",
       "        var display = window.getComputedStyle(gd).display;\n",
       "        if (!display || display === 'none') {{\n",
       "            console.log([gd, 'removed!']);\n",
       "            Plotly.purge(gd);\n",
       "            observer.disconnect();\n",
       "        }}\n",
       "}});\n",
       "\n",
       "// Listen for the removal of the full notebook cells\n",
       "var notebookContainer = gd.closest('#notebook-container');\n",
       "if (notebookContainer) {{\n",
       "    x.observe(notebookContainer, {childList: true});\n",
       "}}\n",
       "\n",
       "// Listen for the clearing of the current output cell\n",
       "var outputEl = gd.closest('.output');\n",
       "if (outputEl) {{\n",
       "    x.observe(outputEl, {childList: true});\n",
       "}}\n",
       "\n",
       "                        })                };                });            </script>        </div>"
      ]
     },
     "metadata": {},
     "output_type": "display_data"
    }
   ],
   "source": [
    "import plotly.graph_objects as go\n",
    "import pandas as pd\n",
    "\n",
    "# Leer el DataFrame desde el archivo CSV\n",
    "df = pd.read_csv(\"../Docs/Data/DEPARTMENTS.csv\")\n",
    "\n",
    "# Seleccionar la columna 'GDP Millions (x_1)'\n",
    "x1_values = df['GDP Millions (x_1)']\n",
    "\n",
    "# Crear el boxplot\n",
    "fig = go.Figure()\n",
    "\n",
    "fig.add_trace(go.Box(y=x1_values, boxpoints='all', jitter=0.3, pointpos=-1.8, name='Boxplot'))\n",
    "\n",
    "# Actualizar el diseño del gráfico\n",
    "fig.update_layout(\n",
    "    title='Boxplot of GDP Millions (x_1)',\n",
    "    yaxis=dict(title='GDP Millions (x_1)'),\n",
    "    showlegend=False  # Para ocultar la leyenda si es necesario\n",
    ")\n",
    "\n",
    "# Mostrar el gráfico\n",
    "fig.show()\n"
   ]
  },
  {
   "cell_type": "markdown",
   "id": "3e4acd99-2b69-4622-80e2-8379caa0b0ba",
   "metadata": {},
   "source": [
    "### 3. What is the covariance between the 2 variables x_1 and x_2?"
   ]
  },
  {
   "cell_type": "markdown",
   "id": "4132bf1c-1538-453c-925b-70344b1b8637",
   "metadata": {},
   "source": [
    "### 4. What is the correlation between the variable x_1 and x_2 (Calculate by hand)?|"
   ]
  },
  {
   "cell_type": "markdown",
   "id": "8e9ae858-0390-429a-bbbd-3d17051fe06b",
   "metadata": {},
   "source": [
    "$$\n",
    "\\text{{Cov}}(X, Y) = \\frac{1}{n} \\sum_{i=1}^{n} (X_i - \\bar{X}) \\cdot (Y_i - \\bar{Y})\n",
    "$$"
   ]
  },
  {
   "cell_type": "markdown",
   "id": "6b4847c1-5f57-42e6-a30e-a55c95ebb01b",
   "metadata": {},
   "source": [
    "### 5. What is the relationship between covariance and correlation?"
   ]
  },
  {
   "cell_type": "markdown",
   "id": "3dd37470-95c2-4e63-be40-a1a80cafcb31",
   "metadata": {},
   "source": [
    "$$ \\text{{Cor}}(X, Y) = \\frac{\\sum_{i=1}^{n} (X_i - \\bar{X})(Y_i - \\bar{Y})}{\\sqrt{\\sum_{i=1}^{n}(X_i - \\bar{X})^2} \\sqrt{\\sum_{i=1}^{n}(Y_i - \\bar{Y})^2}}$$"
   ]
  },
  {
   "cell_type": "markdown",
   "id": "ca047f10-95aa-4f0c-b525-263241c43d54",
   "metadata": {},
   "source": [
    "### 6. Calculate the result of the K-means algorithm on this data set by hand (as we did in excel). We are going to create 4 groups, that is, k=4 (clusters)"
   ]
  },
  {
   "cell_type": "markdown",
   "id": "b7f2d364-2720-47c5-933f-f343bc0dd124",
   "metadata": {},
   "source": [
    "### 7. Calculate the result of a dedogram using the maximum distance in an excel"
   ]
  },
  {
   "cell_type": "code",
   "execution_count": null,
   "id": "927e5ac4-9657-4442-88de-f15d9de1f9e3",
   "metadata": {},
   "outputs": [],
   "source": []
  }
 ],
 "metadata": {
  "kernelspec": {
   "display_name": "Python 3 (ipykernel)",
   "language": "python",
   "name": "python3"
  },
  "language_info": {
   "codemirror_mode": {
    "name": "ipython",
    "version": 3
   },
   "file_extension": ".py",
   "mimetype": "text/x-python",
   "name": "python",
   "nbconvert_exporter": "python",
   "pygments_lexer": "ipython3",
   "version": "3.10.8"
  }
 },
 "nbformat": 4,
 "nbformat_minor": 5
}
