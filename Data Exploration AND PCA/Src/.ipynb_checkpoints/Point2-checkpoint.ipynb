{
 "cells": [
  {
   "cell_type": "markdown",
   "id": "adab114c-450a-4678-93c4-fa0e431b8df1",
   "metadata": {},
   "source": [
    "@author: Carlos Andrés Tejada Ramírez  \n",
    "Point 2 of Homework 1 from statistics III"
   ]
  },
  {
   "cell_type": "markdown",
   "id": "c9733dd5-a510-45a5-a4bb-561ff2fe2854",
   "metadata": {},
   "source": [
    "# Data Exploration AND PCA (Point 2)"
   ]
  },
  {
   "cell_type": "markdown",
   "id": "4ab8854b-59a1-4ad0-b087-f9e3b82bf317",
   "metadata": {},
   "source": [
    "## Use this data from the departments of Colombia to do the following tasks"
   ]
  },
  {
   "cell_type": "markdown",
   "id": "935db858-cbe6-4a9e-a438-2aae878fd969",
   "metadata": {},
   "source": [
    "Use the next data to calculate PCA and reduce the dimensionality from 2 dimensions to 1. For this exercise you must use the variables x_1, and x_2 and create a vector with a single dimension."
   ]
  },
  {
   "cell_type": "markdown",
   "id": "f91447d0-d93f-4149-928b-3004261be219",
   "metadata": {},
   "source": [
    "| Department                                       | GDP Millions (x_1) | Population (x_2) | GDP per capita Millions (x_3) |\n",
    "|--------------------------------------------------|---------------------|-------------------|-------------------------------|\n",
    "| Amazonas                                         | 1067855.672         | 76589             | 13.94267678                   |\n",
    "| Antioquia                                        | 212514957.4         | 6407102           | 33.16865524                   |\n",
    "| Arauca                                           | 8548114.653         | 262174            | 32.60473828                   |\n",
    "| Atlántico                                        | 63764770.77         | 2535517           | 25.1486268                    |\n",
    "| Bogotá D.C.                                      | 357258620.8         | 7412566           | 48.19634938                   |\n",
    "| Bolívar                                          | 51404352.37         | 2070110           | 24.83170091                   |\n",
    "| Boyacá                                           | 38858162.12         | 1217376           | 31.91960588                   |\n",
    "| Caldas                                           | 23953112.45         | 998255            | 23.9949837                    |\n",
    "| Caquetá                                          | 5461366.78          | 401849            | 13.59059443                   |\n",
    "| Casanare                                         | 23660657.37         | 420504            | 56.26737766                   |\n",
    "| Cauca                                            | 25758151.71         | 1464488           | 17.58850309                   |\n",
    "| Cesar                                            | 37523918.98         | 1200574           | 31.25498218                   |\n",
    "| Chocó                                            | 6001844.915         | 534826            | 11.2220515                    |\n",
    "| Córdoba                                          | 24991953.76         | 1784783           | 14.00279685                   |\n",
    "| Cundinamarca                                     | 91945942.28         | 2919060           | 31.49847632                   |\n",
    "| Guainía                                          | 497704.0127         | 48114             | 10.34426597                   |\n",
    "| Guaviare                                         | 1123857.696         | 82767             | 13.57857232                   |\n",
    "| Huila                                            | 24011616.06         | 1100386           | 21.8210846                    |\n",
    "| La Guajira                                       | 22262575.88         | 880560            | 25.28229295                   |\n",
    "| Magdalena                                        | 19738417.36         | 1341746           | 14.710994                     |\n",
    "| Meta                                             | 58439500.07         | 1039722           | 56.20685151                   |\n",
    "| Nariño                                           | 21775426.15         | 1630592           | 13.35430699                   |\n",
    "| Norte de Santander                               | 23056874.23         | 1491689           | 15.45689097                   |\n",
    "| Putumayo                                          | 5616558.269         | 348182            | 16.13109888                   |\n",
    "| Quindío                                          | 11941644.16         | 539904            | 22.11808795                   |\n",
    "| Risaralda                                        | 23786362.42         | 943401            | 25.21341659                   |\n",
    "| San   Andrés, Providencia y Santa Catalina (Archipiélago) | 2125410.333 | 61280             | 34.68358898                   |\n",
    "| Santander                                        | 92276678.16         | 2184837           | 42.23504003                   |\n",
    "| Sucre                                            | 11516270.76         | 904863            | 12.7270877                    |\n",
    "| Tolima                                           | 30438180.15         | 1330187           | 22.8826324                    |\n",
    "| Valle del Cauca                                  | 139863153.5         | 4475886           | 31.2481492                    |\n",
    "| Vaupés                                           | 381851.6785         | 40797             | 9.359797989                   |\n",
    "| Vichada                                          | 956576.6785         | 107808            | 8.872965629                   |\n",
    ">"
   ]
  },
  {
   "cell_type": "code",
   "execution_count": 4,
   "id": "95c6b834-cbf5-4203-a1a7-d95bfcfbd51e",
   "metadata": {},
   "outputs": [],
   "source": [
    "import pandas as pd\n",
    "import numpy as np\n",
    "from sklearn.decomposition import PCA\n",
    "\n",
    "df = pd.read_csv(\"../Docs/Data/DEPARTMENTS.csv\")"
   ]
  },
  {
   "cell_type": "code",
   "execution_count": 5,
   "id": "280b1daf-bb9a-4c0e-9a1e-5f7a5622ff50",
   "metadata": {},
   "outputs": [],
   "source": [
    "columnx_1 = df['GDP Millions (x_1)']\n",
    "columnx_2 = df['Population (x_2)']\n",
    "columnx_3 = df['GDP per capita Millions (x_3)']\n",
    "column_department = df['Department']\n",
    "\n",
    "#df.describe()"
   ]
  },
  {
   "cell_type": "markdown",
   "id": "1dd77ad6-0818-4a8d-acd7-8acbfc23eee2",
   "metadata": {},
   "source": [
    "### Let's reuse some methods from point 1"
   ]
  },
  {
   "cell_type": "code",
   "execution_count": 6,
   "id": "f38e0977-9b73-4255-9039-96b85ec327e7",
   "metadata": {},
   "outputs": [],
   "source": [
    "def calculateMean(column):\n",
    "    return column.sum() / len(column)\n",
    "\n",
    "def calculateStdDev(column, mean):\n",
    "    n = len(column)\n",
    "    squaredDifferences = [(x - mean) ** 2 for x in column]\n",
    "    variance = sum(squaredDifferences) / n\n",
    "    stdDev = variance ** 0.5\n",
    "    return stdDev\n",
    "\n",
    "def calculateCovariance(columnX, columnY):\n",
    "    columnLength = len(columnX)\n",
    "\n",
    "    if columnLength != len(columnY):\n",
    "        raise ValueError(\"Columns must have the same length\")\n",
    "\n",
    "    meanX = calculateMean(columnX)\n",
    "    meanY = calculateMean(columnY)\n",
    "\n",
    "    return sum((columnX[i] - meanX) * (columnY[i] - meanY) for i in range(columnLength)) / columnLength\n",
    "\n",
    "def scaleData(data):\n",
    "    scaledData = data.copy()\n",
    "    for column in data.columns:\n",
    "        mean = calculateMean(data[column])\n",
    "        standardDeviation = calculateStdDev(data[column], mean)\n",
    "        scaledData[column] = (data[column] - mean) / standardDeviation\n",
    "    return scaledData"
   ]
  },
  {
   "cell_type": "code",
   "execution_count": 9,
   "id": "15ce00d0-08e9-466b-a112-eddab759c2f2",
   "metadata": {},
   "outputs": [],
   "source": [
    "def calculateCovarianceMatrix(data):\n",
    "    numFeatures = len(data.columns)\n",
    "    covarianceMatrix = np.zeros((numFeatures, numFeatures))\n",
    "\n",
    "    for i in range(numFeatures):\n",
    "        for j in range(numFeatures):\n",
    "            covarianceMatrix[i, j] = calculateCovariance(data.iloc[:, i], data.iloc[:, j])\n",
    "\n",
    "    return covarianceMatrix\n",
    "\n",
    "def reduceDimensionalityPCA(data):\n",
    "    scaledData = scaleData(data)\n",
    "\n",
    "    # Calculate covariance matrix\n",
    "    covarianceMatrix = calculateCovarianceMatrix(scaledData)\n",
    "\n",
    "    # Manual computation of eigenvalues and eigenvectors\n",
    "    eigenvalues, eigenvectors = np.linalg.eig(covarianceMatrix)\n",
    "\n",
    "    # Manual sorting of eigenvalues and eigenvectors\n",
    "    sortedIndex = np.argsort(eigenvalues)[::-1]\n",
    "    sortedEigenvalues = eigenvalues[sortedIndex]\n",
    "    sortedEigenvectors = eigenvectors[:, sortedIndex]\n",
    "\n",
    "    # Manual selection of the principal component\n",
    "    principalComponent = sortedEigenvectors[:, 0]\n",
    "\n",
    "    # Adjust the sign of the principal component\n",
    "    if principalComponent[0] < 0:\n",
    "        principalComponent = -principalComponent\n",
    "\n",
    "    # Manual projection of the data onto the principal component\n",
    "    reducedData = np.dot(scaledData, principalComponent)\n",
    "\n",
    "    return reducedData, covarianceMatrix, sortedEigenvalues, sortedEigenvectors, principalComponent\n",
    "\n",
    "# Example usage\n",
    "data = pd.DataFrame({'columnx_1': columnx_1, 'columnx_2': columnx_2})\n",
    "reducedData, covarianceMatrix, sortedEigenvalues, sortedEigenvectors, principalComponent = reduceDimensionalityPCA(data)\n",
    "\n",
    "# Calculate explained variance by each eigenvalue\n",
    "explainedVariance = sortedEigenvalues / np.sum(sortedEigenvalues)\n",
    "\n",
    "# Calculate error or difference between the projected and original data\n",
    "error = np.linalg.norm(data.values - np.outer(reducedData, principalComponent))"
   ]
  },
  {
   "cell_type": "code",
   "execution_count": 10,
   "id": "f30cafe3-c4a2-403b-a691-96cbd6ba0e9b",
   "metadata": {},
   "outputs": [],
   "source": [
    "point2 = {\n",
    "    1: covarianceMatrix,\n",
    "    2: sortedEigenvalues,\n",
    "    3: explainedVariance,\n",
    "    4: principalComponent,\n",
    "    5: reducedData,\n",
    "    6: error\n",
    "}"
   ]
  },
  {
   "cell_type": "code",
   "execution_count": 17,
   "id": "8aab6088-9ca5-4d12-bd26-2f0d63417384",
   "metadata": {},
   "outputs": [
    {
     "data": {
      "image/png": "[encoded data removed]",
      "text/plain": [
       "<Figure size 1000x500 with 2 Axes>"
      ]
     },
     "metadata": {},
     "output_type": "display_data"
    }
   ],
   "source": [
    "import matplotlib.pyplot as plt\n",
    "from sklearn.preprocessing import StandardScaler\n",
    "\n",
    "fig = plt.figure(figsize=(10, 5))\n",
    "ax1 = fig.add_subplot(1, 2, 1)\n",
    "ax2 = fig.add_subplot(1, 2, 2)\n",
    "\n",
    "ax1.set_title(\"Data\", fontsize=20)\n",
    "ax1.scatter(columnx_1, columnx_2, marker=\"8\", s=50, color=\"red\", alpha=0.5)\n",
    "ax1.set_xlabel(\"GDP Millions (x_1)\", fontsize=15)\n",
    "ax1.set_ylabel(\"Population (x_2)\", fontsize=15)\n",
    "\n",
    "columns = [\"GDP Millions (x_1)\", \"Population (x_2)\"]\n",
    "data = df[columns]\n",
    "dataScaled = pd.DataFrame(StandardScaler().fit_transform(data), columns=columns)\n",
    "\n",
    "ax2.set_title(\"Standardized data\", fontsize=20)\n",
    "ax2.scatter(dataScaled[\"GDP Millions (x_1)\"], dataScaled[\"Population (x_2)\"], marker=\"8\", s=50, color=\"blue\", alpha=0.5)\n",
    "ax2.set_xlabel(\"Standardized GDP Millions\", fontsize=15)\n",
    "ax2.set_ylabel(\"Standardized Population\", fontsize=15)\n",
    "\n",
    "plt.show()"
   ]
  },
  {
   "cell_type": "markdown",
   "id": "06bf130b-a385-4053-9c1d-c7747d9dfdc2",
   "metadata": {},
   "source": [
    "## 1. What is the covariance matrix"
   ]
  },
  {
   "cell_type": "code",
   "execution_count": 136,
   "id": "4dd3b1f2-302a-45ae-af01-f44cb1957103",
   "metadata": {},
   "outputs": [
    {
     "name": "stdout",
     "output_type": "stream",
     "text": [
      "           columnx_1  columnx_2\n",
      "columnx_1    1.00000    0.95525\n",
      "columnx_2    0.95525    1.00000\n"
     ]
    }
   ],
   "source": [
    "print(pd.DataFrame(point2[1], columns=data.columns, index=data.columns))\n"
   ]
  },
  {
   "cell_type": "markdown",
   "id": "37d1c7dd-827a-4d72-a173-b86118df8410",
   "metadata": {},
   "source": [
    "## 2. What are the eigenvalues"
   ]
  },
  {
   "cell_type": "code",
   "execution_count": 137,
   "id": "f54cd208-91d2-47e8-a25d-dc3c86c3a4a7",
   "metadata": {},
   "outputs": [
    {
     "name": "stdout",
     "output_type": "stream",
     "text": [
      "   Eigenvalues\n",
      "0      1.95525\n",
      "1      0.04475\n"
     ]
    }
   ],
   "source": [
    "print(pd.DataFrame(point2[2], columns=[\"Eigenvalues\"]))"
   ]
  },
  {
   "cell_type": "markdown",
   "id": "f0b1376e-6f8b-4bef-b12e-827ee079c8d4",
   "metadata": {},
   "source": [
    "## 3. What is the variance explained by the eigenvalue."
   ]
  },
  {
   "cell_type": "code",
   "execution_count": 138,
   "id": "421a6d03-a4ae-4011-906d-dba38bbb2238",
   "metadata": {},
   "outputs": [
    {
     "name": "stdout",
     "output_type": "stream",
     "text": [
      "   Variance explained by eigenvalue\n",
      "0                          0.977625\n",
      "1                          0.022375\n"
     ]
    }
   ],
   "source": [
    "print(pd.DataFrame(point2[3], columns=[\"Variance explained by eigenvalue\"]))"
   ]
  },
  {
   "cell_type": "markdown",
   "id": "53e6f3b3-4576-46f4-be23-429ea970d598",
   "metadata": {},
   "source": [
    "## 4. What is the value of the eigenvector"
   ]
  },
  {
   "cell_type": "code",
   "execution_count": 139,
   "id": "0efc7a41-f23f-4d8d-83eb-bb469bd2f540",
   "metadata": {},
   "outputs": [
    {
     "name": "stdout",
     "output_type": "stream",
     "text": [
      "   Eigenvector\n",
      "0     0.707107\n",
      "1     0.707107\n"
     ]
    }
   ],
   "source": [
    "print(pd.DataFrame(point2[4], columns=[\"Eigenvector\"]))"
   ]
  },
  {
   "cell_type": "markdown",
   "id": "cb0deb43-86d0-4f71-ae68-4e0ac011819c",
   "metadata": {},
   "source": [
    "## 5. What is the projected vector."
   ]
  },
  {
   "cell_type": "code",
   "execution_count": 40,
   "id": "9cd49de4-4e74-4f17-b0bc-a8c8d203e44a",
   "metadata": {},
   "outputs": [
    {
     "name": "stdout",
     "output_type": "stream",
     "text": [
      "                                                      Manual   sklearn\n",
      "Department                                                            \n",
      "Amazonas                                           -1.016761 -1.016761\n",
      "Antioquia                                           3.766923  3.766923\n",
      "Arauca                                             -0.863684 -0.863684\n",
      "Atlántico                                           0.646634  0.646634\n",
      "Bogotá D.C.                                         5.640378  5.640378\n",
      "Bolívar                                             0.326854  0.326854\n",
      "Boyacá                                             -0.157860 -0.157860\n",
      "Caldas                                             -0.399442 -0.399442\n",
      "Caquetá                                            -0.835803 -0.835803\n",
      "Casanare                                           -0.645617 -0.645617\n",
      "Cauca                                              -0.185065 -0.185065\n",
      "Cesar                                              -0.178301 -0.178301\n",
      "Chocó                                              -0.774403 -0.774403\n",
      "Córdoba                                            -0.057891 -0.057891\n",
      "Cundinamarca                                        1.090450  1.090450\n",
      "Guainía                                            -1.034462 -1.034462\n",
      "Guaviare                                           -1.013599 -1.013599\n",
      "Huila                                              -0.355857 -0.355857\n",
      "La Guajira                                         -0.465931 -0.465931\n",
      "Magdalena                                          -0.297051 -0.297051\n",
      "Meta                                               -0.036477 -0.036477\n",
      "Nariño                                             -0.155033 -0.155033\n",
      "Norte de Santander                                 -0.200676 -0.200676\n",
      "Putumayo                                           -0.856843 -0.856843\n",
      "Quindío                                            -0.712756 -0.712756\n",
      "Risaralda                                          -0.424208 -0.424208\n",
      "San Andrés Providencia y Santa Catalina (Archip... -1.012611 -1.012611\n",
      "Santander                                           0.784641  0.784641\n",
      "Sucre                                              -0.563362 -0.563362\n",
      "Tolima                                             -0.194721 -0.194721\n",
      "Valle del Cauca                                     2.225971  2.225971\n",
      "Vaupés                                             -1.038703 -1.038703\n",
      "Vichada                                            -1.004732 -1.004732\n"
     ]
    }
   ],
   "source": [
    "from sklearn.decomposition import PCA\n",
    "\n",
    "pca = PCA()\n",
    "pcaResult = pca.fit_transform(scaleData(data))\n",
    "print(pd.DataFrame(np.hstack([reducedData.reshape(-1, 1), pcaResult[:, 0].reshape(-1, 1)]), index=column_department, columns=[\"Manual\", \"sklearn\"]))"
   ]
  },
  {
   "cell_type": "code",
   "execution_count": 43,
   "id": "8fa7c2a1-852d-4458-90ca-1dd3810e1715",
   "metadata": {},
   "outputs": [
    {
     "data": {
      "image/png": "[encoded data removed]",
      "text/plain": [
       "<Figure size 800x800 with 1 Axes>"
      ]
     },
     "metadata": {},
     "output_type": "display_data"
    }
   ],
   "source": [
    "dataScaled = pd.DataFrame(StandardScaler().fit_transform(data), columns=columns)\n",
    "eigenvalues, eigenvectors = np.linalg.eig(covarianceMatrix)\n",
    "\n",
    "vectorA = eigenvectors[:, 0]\n",
    "vectorB = eigenvectors[:, 1]\n",
    "\n",
    "projection = pd.DataFrame(dataScaled.values @ eigenvectors.T,\n",
    "                          columns=[\"GDP Millions (x_1)\", \"Population (x_2)\"])\n",
    "\n",
    "plt.figure(figsize=(8, 8))\n",
    "plt.axes().set_aspect(\"equal\")\n",
    "\n",
    "plt.scatter(projection[\"GDP Millions (x_1)\"], projection[\"Population (x_2)\"],\n",
    "            marker=\"8\", s=50, color=\"purple\", alpha=0.5)\n",
    "\n",
    "plt.quiver(0, 0,\n",
    "           vectorA[0] / abs(vectorA[0]) * eigenvalues[0],\n",
    "           vectorA[1] / abs(vectorA[1]) * eigenvalues[0],\n",
    "           color=\"blue\", angles=\"xy\", scale_units=\"xy\", scale=1, width=0.05)\n",
    "\n",
    "plt.quiver(0, 0,\n",
    "           vectorB[0] / abs(vectorB[0]) * eigenvalues[1],\n",
    "           vectorB[1] / abs(vectorB[1]) * eigenvalues[1],\n",
    "           color=\"red\", angles=\"xy\", scale_units=\"xy\", scale=1, width=0.02)\n",
    "\n",
    "plt.scatter(projection[\"GDP Millions (x_1)\"], [-2] * len(projection[\"GDP Millions (x_1)\"]),\n",
    "            s=50, color=\"red\", alpha=0.5)\n",
    "\n",
    "plt.scatter([-6] * len(projection[\"Population (x_2)\"]), projection[\"Population (x_2)\"],\n",
    "            s=50, color=\"blue\", alpha=0.5)\n",
    "\n",
    "plt.xlabel(\"GDP Millions (x_1)\", fontsize=15)\n",
    "plt.ylabel(\"Population (x_2)\", fontsize=15)\n",
    "plt.show()\n"
   ]
  },
  {
   "cell_type": "markdown",
   "id": "55b673d7-ee5f-4d3d-a8e6-549d2d2306d0",
   "metadata": {},
   "source": [
    "## 6. What is the error or difference between the projected matrix"
   ]
  },
  {
   "cell_type": "code",
   "execution_count": 42,
   "id": "42a41600-0306-495e-8465-172636e13eac",
   "metadata": {},
   "outputs": [
    {
     "name": "stdout",
     "output_type": "stream",
     "text": [
      "Manual PCA error: 478923461.57698685\n",
      "scikit-learn PCA error: 478923461.4655835\n"
     ]
    }
   ],
   "source": [
    "error =  np.linalg.norm(data.values - np.outer(reducedData, principalComponent))\n",
    "print(\"Manual PCA error:\", error)\n",
    "error = np.linalg.norm(data.values - pca.inverse_transform(pcaResult), ord='fro')\n",
    "print(\"scikit-learn PCA error:\", error)"
   ]
  },
  {
   "cell_type": "code",
   "execution_count": null,
   "id": "d13d703d-e00e-45fa-9bc8-ce434d6bddd7",
   "metadata": {},
   "outputs": [],
   "source": []
  }
 ],
 "metadata": {
  "kernelspec": {
   "display_name": "Python 3 (ipykernel)",
   "language": "python",
   "name": "python3"
  },
  "language_info": {
   "codemirror_mode": {
    "name": "ipython",
    "version": 3
   },
   "file_extension": ".py",
   "mimetype": "text/x-python",
   "name": "python",
   "nbconvert_exporter": "python",
   "pygments_lexer": "ipython3",
   "version": "3.10.8"
  }
 },
 "nbformat": 4,
 "nbformat_minor": 5
}
